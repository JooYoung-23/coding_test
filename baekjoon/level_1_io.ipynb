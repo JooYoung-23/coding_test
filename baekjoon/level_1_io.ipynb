{
 "cells": [
  {
   "cell_type": "code",
   "execution_count": 2,
   "id": "d422aef9",
   "metadata": {},
   "outputs": [
    {
     "name": "stdout",
     "output_type": "stream",
     "text": [
      "3 2\n",
      "1\n"
     ]
    }
   ],
   "source": [
    "# Num_3\n",
    "\n",
    "n1, n2 = map(int, input().split())\n",
    "print(n1 - n2)"
   ]
  },
  {
   "cell_type": "code",
   "execution_count": 4,
   "id": "152bacf3",
   "metadata": {},
   "outputs": [
    {
     "name": "stdout",
     "output_type": "stream",
     "text": [
      "3 2\n",
      "6\n"
     ]
    }
   ],
   "source": [
    "# Num_4\n",
    "\n",
    "n1, n2 = map(int, input().split())\n",
    "print(n1 * n2)"
   ]
  },
  {
   "cell_type": "code",
   "execution_count": 7,
   "id": "4b5b6556",
   "metadata": {},
   "outputs": [
    {
     "name": "stdout",
     "output_type": "stream",
     "text": [
      "2 8\n",
      "0.25\n"
     ]
    }
   ],
   "source": [
    "# Num_5\n",
    "\n",
    "n1, n2 = map(int, input().split())\n",
    "print(float(n1) / n2)"
   ]
  },
  {
   "cell_type": "code",
   "execution_count": null,
   "id": "60911e7b",
   "metadata": {},
   "outputs": [],
   "source": []
  }
 ],
 "metadata": {
  "kernelspec": {
   "display_name": "Python 3 (ipykernel)",
   "language": "python",
   "name": "python3"
  },
  "language_info": {
   "codemirror_mode": {
    "name": "ipython",
    "version": 3
   },
   "file_extension": ".py",
   "mimetype": "text/x-python",
   "name": "python",
   "nbconvert_exporter": "python",
   "pygments_lexer": "ipython3",
   "version": "3.8.5"
  }
 },
 "nbformat": 4,
 "nbformat_minor": 5
}
